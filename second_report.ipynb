{
 "cells": [
  {
   "cell_type": "markdown",
   "id": "1b4b2a5e-e263-4618-ad46-91c7722362ca",
   "metadata": {},
   "source": [
    "# 2차 프로그래밍 과제 문제\n",
    "* 제출날짜: 2024-05-14까지 ipynb 소스자료 업로드하기\n",
    "* cyber캠퍼스와 깃허브에 올리기\n",
    "* 실습에서 사용한 weather.csv 파일을 판다스를 이용하여 데이터프레임을 만들어 다음과 같이 처리한다."
   ]
  },
  {
   "cell_type": "markdown",
   "id": "d25998ce-b19d-43c7-8f06-5dea3abe130c",
   "metadata": {},
   "source": [
    "## 1) 이 데이터셋의 앞 3개 행과 마지막 3개의 행을 화면에 출력하시오."
   ]
  },
  {
   "cell_type": "code",
   "execution_count": 34,
   "id": "3584abdc-faf5-4656-bea5-c4b50a03d8ba",
   "metadata": {},
   "outputs": [
    {
     "name": "stdout",
     "output_type": "stream",
     "text": [
      "           일시  평균 기온  최대 풍속  평균 풍속\n",
      "0  2010-08-01   28.7    8.3    3.4\n",
      "1  2010-08-02   25.2    8.7    3.8\n",
      "2  2010-08-03   22.1    6.3    2.9\n",
      "\n",
      "              일시  평균 기온  최대 풍속  평균 풍속\n",
      "3650  2020-07-29   21.6    3.2    1.0\n",
      "3651  2020-07-30   22.9    9.7    2.4\n",
      "3652  2020-07-31   25.7    4.8    2.5\n"
     ]
    }
   ],
   "source": [
    "import numpy as np\n",
    "import pandas as pd\n",
    "import matplotlib.pyplot as plt\n",
    "import seaborn as sns\n",
    "\n",
    "\n",
    "weather = pd.read_csv(\"weather.csv\")\n",
    "\n",
    "print(weather.head(3))\n",
    "print()\n",
    "print(weather.tail(3))"
   ]
  },
  {
   "cell_type": "markdown",
   "id": "003ab18b-293b-4842-824b-79f7b697e873",
   "metadata": {},
   "source": [
    "## 2) 2015년 6월 6일의 \"평균 기온\"과 \"풍속 정보\"를 출력하시오"
   ]
  },
  {
   "cell_type": "code",
   "execution_count": 35,
   "id": "3a05008b-27e7-4ff9-814d-0298aa6c1ce5",
   "metadata": {},
   "outputs": [
    {
     "name": "stdout",
     "output_type": "stream",
     "text": [
      "              일시  평균 기온  최대 풍속  평균 풍속\n",
      "1770  2015-06-06   16.6    4.4    1.9\n"
     ]
    }
   ],
   "source": [
    "print(weather.loc[weather['일시'] == '2015-06-06'])"
   ]
  },
  {
   "cell_type": "markdown",
   "id": "591f563e-e875-4a10-b860-aa51b9d7b949",
   "metadata": {},
   "source": [
    "## 3) 가장 무더웠던 날짜을 추출해서 이 날의 기상 데이터을 출력하시오."
   ]
  },
  {
   "cell_type": "code",
   "execution_count": 36,
   "id": "9ede29bf-bb78-4a6c-84b8-bd3eab88f747",
   "metadata": {},
   "outputs": [
    {
     "data": {
      "text/html": [
       "<div>\n",
       "<style scoped>\n",
       "    .dataframe tbody tr th:only-of-type {\n",
       "        vertical-align: middle;\n",
       "    }\n",
       "\n",
       "    .dataframe tbody tr th {\n",
       "        vertical-align: top;\n",
       "    }\n",
       "\n",
       "    .dataframe thead th {\n",
       "        text-align: right;\n",
       "    }\n",
       "</style>\n",
       "<table border=\"1\" class=\"dataframe\">\n",
       "  <thead>\n",
       "    <tr style=\"text-align: right;\">\n",
       "      <th></th>\n",
       "      <th>일시</th>\n",
       "      <th>평균 기온</th>\n",
       "      <th>최대 풍속</th>\n",
       "      <th>평균 풍속</th>\n",
       "    </tr>\n",
       "  </thead>\n",
       "  <tbody>\n",
       "    <tr>\n",
       "      <th>1103</th>\n",
       "      <td>2013-08-08</td>\n",
       "      <td>31.3</td>\n",
       "      <td>7.8</td>\n",
       "      <td>4.6</td>\n",
       "    </tr>\n",
       "  </tbody>\n",
       "</table>\n",
       "</div>"
      ],
      "text/plain": [
       "              일시  평균 기온  최대 풍속  평균 풍속\n",
       "1103  2013-08-08   31.3    7.8    4.6"
      ]
     },
     "execution_count": 36,
     "metadata": {},
     "output_type": "execute_result"
    }
   ],
   "source": [
    "hottest_date=weather.loc[weather['평균 기온'].idxmax(),'일시']\n",
    "weather.loc[weather['일시']==hottest_date]"
   ]
  },
  {
   "cell_type": "markdown",
   "id": "1b4f67d7-4a4d-49e1-9a81-6ab6dd01ba01",
   "metadata": {},
   "source": [
    "## 4) \"평균 기온\"이 30도를 넘는 날짜들을 찾아, 이 날의 기상 데이터를 출력하시오."
   ]
  },
  {
   "cell_type": "code",
   "execution_count": 37,
   "id": "f1e21422-d700-400c-bb20-ce22ef83ccae",
   "metadata": {},
   "outputs": [
    {
     "name": "stdout",
     "output_type": "stream",
     "text": [
      "              일시  평균 기온  최대 풍속  평균 풍속\n",
      "1103  2013-08-08   31.3    7.8    4.6\n",
      "1104  2013-08-09   30.6    9.9    6.4\n",
      "1105  2013-08-10   30.6    7.4    3.8\n",
      "2913  2018-07-23   30.5    6.5    1.6\n",
      "2925  2018-08-04   30.3    5.8    3.0\n"
     ]
    }
   ],
   "source": [
    "hot_days = weather.loc[weather['평균 기온']>30]\n",
    "print(hot_days)"
   ]
  },
  {
   "cell_type": "markdown",
   "id": "716196fb-af5a-43a2-88d3-f6e44010d9ab",
   "metadata": {},
   "source": [
    "## 5) 연도별 \"평균 기온\"의 평균에 대한 추이를 선 그래프로 그리시오."
   ]
  },
  {
   "cell_type": "code",
   "execution_count": 38,
   "id": "eda46764-741e-41e8-a9e0-d7b59b03fb6c",
   "metadata": {},
   "outputs": [
    {
     "name": "stderr",
     "output_type": "stream",
     "text": [
      "c:\\users\\khgg0\\appdata\\local\\programs\\python\\python39\\lib\\site-packages\\IPython\\core\\pylabtools.py:152: UserWarning: Glyph 54217 (\\N{HANGUL SYLLABLE PYEONG}) missing from current font.\n",
      "  fig.canvas.print_figure(bytes_io, **kw)\n",
      "c:\\users\\khgg0\\appdata\\local\\programs\\python\\python39\\lib\\site-packages\\IPython\\core\\pylabtools.py:152: UserWarning: Glyph 44512 (\\N{HANGUL SYLLABLE GYUN}) missing from current font.\n",
      "  fig.canvas.print_figure(bytes_io, **kw)\n",
      "c:\\users\\khgg0\\appdata\\local\\programs\\python\\python39\\lib\\site-packages\\IPython\\core\\pylabtools.py:152: UserWarning: Glyph 44592 (\\N{HANGUL SYLLABLE GI}) missing from current font.\n",
      "  fig.canvas.print_figure(bytes_io, **kw)\n",
      "c:\\users\\khgg0\\appdata\\local\\programs\\python\\python39\\lib\\site-packages\\IPython\\core\\pylabtools.py:152: UserWarning: Glyph 50728 (\\N{HANGUL SYLLABLE ON}) missing from current font.\n",
      "  fig.canvas.print_figure(bytes_io, **kw)\n",
      "c:\\users\\khgg0\\appdata\\local\\programs\\python\\python39\\lib\\site-packages\\IPython\\core\\pylabtools.py:152: UserWarning: Glyph 50672 (\\N{HANGUL SYLLABLE YEON}) missing from current font.\n",
      "  fig.canvas.print_figure(bytes_io, **kw)\n",
      "c:\\users\\khgg0\\appdata\\local\\programs\\python\\python39\\lib\\site-packages\\IPython\\core\\pylabtools.py:152: UserWarning: Glyph 46020 (\\N{HANGUL SYLLABLE DO}) missing from current font.\n",
      "  fig.canvas.print_figure(bytes_io, **kw)\n",
      "c:\\users\\khgg0\\appdata\\local\\programs\\python\\python39\\lib\\site-packages\\IPython\\core\\pylabtools.py:152: UserWarning: Glyph 48324 (\\N{HANGUL SYLLABLE BYEOL}) missing from current font.\n",
      "  fig.canvas.print_figure(bytes_io, **kw)\n",
      "c:\\users\\khgg0\\appdata\\local\\programs\\python\\python39\\lib\\site-packages\\IPython\\core\\pylabtools.py:152: UserWarning: Glyph 52628 (\\N{HANGUL SYLLABLE CU}) missing from current font.\n",
      "  fig.canvas.print_figure(bytes_io, **kw)\n",
      "c:\\users\\khgg0\\appdata\\local\\programs\\python\\python39\\lib\\site-packages\\IPython\\core\\pylabtools.py:152: UserWarning: Glyph 51060 (\\N{HANGUL SYLLABLE I}) missing from current font.\n",
      "  fig.canvas.print_figure(bytes_io, **kw)\n"
     ]
    },
    {
     "data": {
      "image/png": "[encoded data removed]",
      "text/plain": [
       "<Figure size 640x480 with 1 Axes>"
      ]
     },
     "metadata": {},
     "output_type": "display_data"
    }
   ],
   "source": [
    "weather['일시'] = pd.to_datetime(weather['일시'])\n",
    "weather['연도'] = weather['일시'].dt.year\n",
    "temp_year = weather.groupby('연도')['평균 기온'].mean()\n",
    "\n",
    "# 선 그래프 그리기\n",
    "# plt.figure(figsize=(10, 6))\n",
    "plt.plot(temp_year.index, temp_year.values, marker='o', linestyle='-')\n",
    "plt.title('연도별 평균 기온 추이')\n",
    "plt.xlabel('연도')\n",
    "plt.ylabel('평균 기온')\n",
    "plt.grid(True)\n",
    "plt.xticks(temp_year.index)  # x축 눈금을 연도로 설정\n",
    "plt.show()"
   ]
  },
  {
   "cell_type": "markdown",
   "id": "99fd8c29-ca42-49d5-b15e-37cd1103f5d4",
   "metadata": {},
   "source": [
    "## 6) 연도별 \"최대 풍속\"의 평균을 막대 그래프로 그리시오"
   ]
  },
  {
   "cell_type": "code",
   "execution_count": 39,
   "id": "cdc14006-b296-4370-929d-d35b3c954d1f",
   "metadata": {},
   "outputs": [
    {
     "name": "stderr",
     "output_type": "stream",
     "text": [
      "c:\\users\\khgg0\\appdata\\local\\programs\\python\\python39\\lib\\site-packages\\IPython\\core\\pylabtools.py:152: UserWarning: Glyph 52572 (\\N{HANGUL SYLLABLE COE}) missing from current font.\n",
      "  fig.canvas.print_figure(bytes_io, **kw)\n",
      "c:\\users\\khgg0\\appdata\\local\\programs\\python\\python39\\lib\\site-packages\\IPython\\core\\pylabtools.py:152: UserWarning: Glyph 45824 (\\N{HANGUL SYLLABLE DAE}) missing from current font.\n",
      "  fig.canvas.print_figure(bytes_io, **kw)\n",
      "c:\\users\\khgg0\\appdata\\local\\programs\\python\\python39\\lib\\site-packages\\IPython\\core\\pylabtools.py:152: UserWarning: Glyph 54413 (\\N{HANGUL SYLLABLE PUNG}) missing from current font.\n",
      "  fig.canvas.print_figure(bytes_io, **kw)\n",
      "c:\\users\\khgg0\\appdata\\local\\programs\\python\\python39\\lib\\site-packages\\IPython\\core\\pylabtools.py:152: UserWarning: Glyph 49549 (\\N{HANGUL SYLLABLE SOG}) missing from current font.\n",
      "  fig.canvas.print_figure(bytes_io, **kw)\n",
      "c:\\users\\khgg0\\appdata\\local\\programs\\python\\python39\\lib\\site-packages\\IPython\\core\\pylabtools.py:152: UserWarning: Glyph 50672 (\\N{HANGUL SYLLABLE YEON}) missing from current font.\n",
      "  fig.canvas.print_figure(bytes_io, **kw)\n",
      "c:\\users\\khgg0\\appdata\\local\\programs\\python\\python39\\lib\\site-packages\\IPython\\core\\pylabtools.py:152: UserWarning: Glyph 46020 (\\N{HANGUL SYLLABLE DO}) missing from current font.\n",
      "  fig.canvas.print_figure(bytes_io, **kw)\n",
      "c:\\users\\khgg0\\appdata\\local\\programs\\python\\python39\\lib\\site-packages\\IPython\\core\\pylabtools.py:152: UserWarning: Glyph 48324 (\\N{HANGUL SYLLABLE BYEOL}) missing from current font.\n",
      "  fig.canvas.print_figure(bytes_io, **kw)\n",
      "c:\\users\\khgg0\\appdata\\local\\programs\\python\\python39\\lib\\site-packages\\IPython\\core\\pylabtools.py:152: UserWarning: Glyph 51032 (\\N{HANGUL SYLLABLE YI}) missing from current font.\n",
      "  fig.canvas.print_figure(bytes_io, **kw)\n",
      "c:\\users\\khgg0\\appdata\\local\\programs\\python\\python39\\lib\\site-packages\\IPython\\core\\pylabtools.py:152: UserWarning: Glyph 54217 (\\N{HANGUL SYLLABLE PYEONG}) missing from current font.\n",
      "  fig.canvas.print_figure(bytes_io, **kw)\n",
      "c:\\users\\khgg0\\appdata\\local\\programs\\python\\python39\\lib\\site-packages\\IPython\\core\\pylabtools.py:152: UserWarning: Glyph 44512 (\\N{HANGUL SYLLABLE GYUN}) missing from current font.\n",
      "  fig.canvas.print_figure(bytes_io, **kw)\n"
     ]
    },
    {
     "data": {
      "image/png": "[encoded data removed]",
      "text/plain": [
       "<Figure size 640x480 with 1 Axes>"
      ]
     },
     "metadata": {},
     "output_type": "display_data"
    }
   ],
   "source": [
    "weather['일시']=pd.to_datetime(weather['일시'])\n",
    "weather['연도']=weather['일시'].dt.year\n",
    "mean_max_windspeed = weather.groupby('연도')['최대 풍속'].mean()\n",
    "\n",
    "plt.bar(mean_max_windspeed.index,mean_max_windspeed.values,color='red')\n",
    "plt.title('연도별 최대 풍속의 평균')\n",
    "plt.xlabel('연도')\n",
    "plt.ylabel('최대 풍속')\n",
    "plt.xticks(mean_max_windspeed.index)\n",
    "plt.grid(axis='y')\n",
    "plt.show()"
   ]
  },
  {
   "cell_type": "markdown",
   "id": "91e2ecdb-a2b3-4745-a2cd-fa08f0ac1669",
   "metadata": {},
   "source": [
    "## 7) 연도별 \"평균 풍속\"의 합을 히스토그램 그래프로 그리시오\n"
   ]
  },
  {
   "cell_type": "code",
   "execution_count": 40,
   "id": "b33a200f-a64c-432b-8ba9-c88493b2ea37",
   "metadata": {},
   "outputs": [
    {
     "name": "stderr",
     "output_type": "stream",
     "text": [
      "c:\\users\\khgg0\\appdata\\local\\programs\\python\\python39\\lib\\site-packages\\IPython\\core\\pylabtools.py:152: UserWarning: Glyph 48712 (\\N{HANGUL SYLLABLE BIN}) missing from current font.\n",
      "  fig.canvas.print_figure(bytes_io, **kw)\n",
      "c:\\users\\khgg0\\appdata\\local\\programs\\python\\python39\\lib\\site-packages\\IPython\\core\\pylabtools.py:152: UserWarning: Glyph 46020 (\\N{HANGUL SYLLABLE DO}) missing from current font.\n",
      "  fig.canvas.print_figure(bytes_io, **kw)\n",
      "c:\\users\\khgg0\\appdata\\local\\programs\\python\\python39\\lib\\site-packages\\IPython\\core\\pylabtools.py:152: UserWarning: Glyph 50672 (\\N{HANGUL SYLLABLE YEON}) missing from current font.\n",
      "  fig.canvas.print_figure(bytes_io, **kw)\n",
      "c:\\users\\khgg0\\appdata\\local\\programs\\python\\python39\\lib\\site-packages\\IPython\\core\\pylabtools.py:152: UserWarning: Glyph 48324 (\\N{HANGUL SYLLABLE BYEOL}) missing from current font.\n",
      "  fig.canvas.print_figure(bytes_io, **kw)\n",
      "c:\\users\\khgg0\\appdata\\local\\programs\\python\\python39\\lib\\site-packages\\IPython\\core\\pylabtools.py:152: UserWarning: Glyph 54217 (\\N{HANGUL SYLLABLE PYEONG}) missing from current font.\n",
      "  fig.canvas.print_figure(bytes_io, **kw)\n",
      "c:\\users\\khgg0\\appdata\\local\\programs\\python\\python39\\lib\\site-packages\\IPython\\core\\pylabtools.py:152: UserWarning: Glyph 44512 (\\N{HANGUL SYLLABLE GYUN}) missing from current font.\n",
      "  fig.canvas.print_figure(bytes_io, **kw)\n",
      "c:\\users\\khgg0\\appdata\\local\\programs\\python\\python39\\lib\\site-packages\\IPython\\core\\pylabtools.py:152: UserWarning: Glyph 54413 (\\N{HANGUL SYLLABLE PUNG}) missing from current font.\n",
      "  fig.canvas.print_figure(bytes_io, **kw)\n",
      "c:\\users\\khgg0\\appdata\\local\\programs\\python\\python39\\lib\\site-packages\\IPython\\core\\pylabtools.py:152: UserWarning: Glyph 49549 (\\N{HANGUL SYLLABLE SOG}) missing from current font.\n",
      "  fig.canvas.print_figure(bytes_io, **kw)\n",
      "c:\\users\\khgg0\\appdata\\local\\programs\\python\\python39\\lib\\site-packages\\IPython\\core\\pylabtools.py:152: UserWarning: Glyph 51032 (\\N{HANGUL SYLLABLE YI}) missing from current font.\n",
      "  fig.canvas.print_figure(bytes_io, **kw)\n",
      "c:\\users\\khgg0\\appdata\\local\\programs\\python\\python39\\lib\\site-packages\\IPython\\core\\pylabtools.py:152: UserWarning: Glyph 54633 (\\N{HANGUL SYLLABLE HAB}) missing from current font.\n",
      "  fig.canvas.print_figure(bytes_io, **kw)\n"
     ]
    },
    {
     "data": {
      "image/png": "[encoded data removed]",
      "text/plain": [
       "<Figure size 640x480 with 1 Axes>"
      ]
     },
     "metadata": {},
     "output_type": "display_data"
    }
   ],
   "source": [
    "weather['일시']=pd.to_datetime(weather['일시'])\n",
    "weather['연도']=weather['일시'].dt.year\n",
    "sum_avg_wind=weather.groupby('연도')['평균 풍속'].sum()\n",
    "\n",
    "plt.hist(sum_avg_wind,bins=10,color='skyblue',edgecolor='blue')\n",
    "plt.title('연도별 평균 풍속의 합')\n",
    "plt.xlabel(\"연도별 평균 풍속의 합\")\n",
    "plt.ylabel('빈도')\n",
    "plt.show()"
   ]
  },
  {
   "cell_type": "markdown",
   "id": "30486392-2104-4642-a0f5-e81cc5fbf01d",
   "metadata": {},
   "source": [
    "## 8) 2015년과 2016년의 \"평균 기온\"의 평균을 비교하여 어느 해가 더 더웠는지 출력하시오."
   ]
  },
  {
   "cell_type": "code",
   "execution_count": 41,
   "id": "71eef250-cc46-4b45-9ade-34d749cd3489",
   "metadata": {},
   "outputs": [
    {
     "name": "stdout",
     "output_type": "stream",
     "text": [
      "2016년의 평균기온의 평균이 더 덥다.\n"
     ]
    }
   ],
   "source": [
    "avg_temp_2015 = weather.loc[weather['연도']==2015,'평균 기온'].mean()\n",
    "avg_temp_2016 = weather.loc[weather['연도']==2016,'평균 기온'].mean()\n",
    "\n",
    "if avg_temp_2015 >avg_temp_2016:\n",
    "    print('2015년의 평균기온의 평균이 더 덥다.')\n",
    "elif avg_temp_2015<avg_temp_2016:\n",
    "    print('2016년의 평균기온의 평균이 더 덥다.')\n",
    "else:\n",
    "    print('2015년 평균기온의 평균과 2016년 평균기온의 평균이 같다.')"
   ]
  },
  {
   "cell_type": "markdown",
   "id": "850bced8-3d8c-4c71-afe2-e9650998cd4f",
   "metadata": {},
   "source": [
    "## 9) 월별 \"평균 기온\" 의 합이 가장 적은 달과 가장 많은 달을 출력하시오."
   ]
  },
  {
   "cell_type": "code",
   "execution_count": 42,
   "id": "35520dcf-b85e-43b1-b43e-068e4d173136",
   "metadata": {},
   "outputs": [
    {
     "name": "stdout",
     "output_type": "stream",
     "text": [
      "평균 기온의 합이 가장 낮은 달 1 월\n",
      "평균 기온의 합이 가장 높은 달 8 월\n"
     ]
    }
   ],
   "source": [
    "avg_temp_month_sum = weather.groupby(weather['일시'].dt.month)['평균 기온'].sum()\n",
    "\n",
    "coldest_month = avg_temp_month_sum.idxmin()\n",
    "hottest_month = avg_temp_month_sum.idxmax()\n",
    "\n",
    "print('평균 기온의 합이 가장 낮은 달',coldest_month,'월')\n",
    "print('평균 기온의 합이 가장 높은 달',hottest_month,'월')"
   ]
  },
  {
   "cell_type": "markdown",
   "id": "f02fd794-dffd-496c-9026-e4be19fddf8b",
   "metadata": {},
   "source": [
    "## 10) 연도별 \"최대 풍속\"의 평균이 가장 큰 연도을 출력하시오."
   ]
  },
  {
   "cell_type": "code",
   "execution_count": 43,
   "id": "2e44441e-b4d7-49a4-84f7-7da05c575283",
   "metadata": {},
   "outputs": [
    {
     "name": "stdout",
     "output_type": "stream",
     "text": [
      "2011 년\n"
     ]
    }
   ],
   "source": [
    "mean_max_windspeed_year = weather.groupby(weather['일시'].dt.year)['최대 풍속'].mean()\n",
    "\n",
    "max_windspeed=mean_max_windspeed_year.idxmax()\n",
    "print(max_windspeed,'년')"
   ]
  },
  {
   "cell_type": "code",
   "execution_count": null,
   "id": "d56154e2-ac72-4e84-a853-498ac983e2d6",
   "metadata": {},
   "outputs": [],
   "source": []
  },
  {
   "cell_type": "code",
   "execution_count": null,
   "id": "a3749ac1-6f9f-4b7d-bded-f13810e8cb85",
   "metadata": {},
   "outputs": [],
   "source": []
  }
 ],
 "metadata": {
  "kernelspec": {
   "display_name": "Python 3 (ipykernel)",
   "language": "python",
   "name": "python3"
  },
  "language_info": {
   "codemirror_mode": {
    "name": "ipython",
    "version": 3
   },
   "file_extension": ".py",
   "mimetype": "text/x-python",
   "name": "python",
   "nbconvert_exporter": "python",
   "pygments_lexer": "ipython3",
   "version": "3.9.2rc1"
  }
 },
 "nbformat": 4,
 "nbformat_minor": 5
}
